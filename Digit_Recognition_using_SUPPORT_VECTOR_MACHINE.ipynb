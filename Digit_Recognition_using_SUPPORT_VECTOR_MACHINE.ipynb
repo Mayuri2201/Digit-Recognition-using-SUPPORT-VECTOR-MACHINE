{
  "nbformat": 4,
  "nbformat_minor": 0,
  "metadata": {
    "colab": {
      "name": "Digit Recognition using SUPPORT VECTOR MACHINE.ipynb",
      "provenance": [],
      "authorship_tag": "ABX9TyO4fOhId1eBrqkxyU9po2z4",
      "include_colab_link": true
    },
    "kernelspec": {
      "name": "python3",
      "display_name": "Python 3"
    },
    "language_info": {
      "name": "python"
    }
  },
  "cells": [
    {
      "cell_type": "markdown",
      "metadata": {
        "id": "view-in-github",
        "colab_type": "text"
      },
      "source": [
        "<a href=\"https://colab.research.google.com/github/Mayuri2201/Digit-Recognition-using-SUPPORT-VECTOR-MACHINE/blob/main/Digit_Recognition_using_SUPPORT_VECTOR_MACHINE.ipynb\" target=\"_parent\"><img src=\"https://colab.research.google.com/assets/colab-badge.svg\" alt=\"Open In Colab\"/></a>"
      ]
    },
    {
      "cell_type": "code",
      "metadata": {
        "id": "D4ohMpuus6jV"
      },
      "source": [
        "import numpy as np\n",
        "from sklearn.datasets import load_digits"
      ],
      "execution_count": 24,
      "outputs": []
    },
    {
      "cell_type": "code",
      "metadata": {
        "id": "LvlfUM2AtI3M"
      },
      "source": [
        "dataset = load_digits()"
      ],
      "execution_count": 25,
      "outputs": []
    },
    {
      "cell_type": "code",
      "metadata": {
        "id": "gh9WtvTnsE0Z",
        "colab": {
          "base_uri": "https://localhost:8080/"
        },
        "outputId": "2530d3d9-63c6-4d33-e971-2189e87a7977"
      },
      "source": [
        "print(dataset.data)\n",
        "print(dataset.target)\n",
        "\n",
        "dataimageLength = len(dataset.images)\n",
        "print(dataimageLength)"
      ],
      "execution_count": 26,
      "outputs": [
        {
          "output_type": "stream",
          "name": "stdout",
          "text": [
            "[[ 0.  0.  5. ...  0.  0.  0.]\n",
            " [ 0.  0.  0. ... 10.  0.  0.]\n",
            " [ 0.  0.  0. ... 16.  9.  0.]\n",
            " ...\n",
            " [ 0.  0.  1. ...  6.  0.  0.]\n",
            " [ 0.  0.  2. ... 12.  0.  0.]\n",
            " [ 0.  0. 10. ... 12.  1.  0.]]\n",
            "[0 1 2 ... 8 9 8]\n",
            "1797\n"
          ]
        }
      ]
    },
    {
      "cell_type": "code",
      "metadata": {
        "colab": {
          "base_uri": "https://localhost:8080/",
          "height": 1000
        },
        "id": "z9hetyJ5yZhV",
        "outputId": "7a674de3-44b3-43a1-950c-eab188e53742"
      },
      "source": [
        "n=10\n",
        "import matplotlib.pyplot as plt\n",
        "plt.gray()\n",
        "plt.matshow(dataset.images[n])\n",
        "plt.show()\n",
        "\n",
        "dataset.images"
      ],
      "execution_count": 28,
      "outputs": [
        {
          "output_type": "display_data",
          "data": {
            "text/plain": [
              "<Figure size 432x288 with 0 Axes>"
            ]
          },
          "metadata": {}
        },
        {
          "output_type": "display_data",
          "data": {
            "image/png": "[encoded data removed]",
            "text/plain": [
              "<Figure size 288x288 with 1 Axes>"
            ]
          },
          "metadata": {
            "needs_background": "light"
          }
        },
        {
          "output_type": "execute_result",
          "data": {
            "text/plain": [
              "array([[[ 0.,  0.,  5., ...,  1.,  0.,  0.],\n",
              "        [ 0.,  0., 13., ..., 15.,  5.,  0.],\n",
              "        [ 0.,  3., 15., ..., 11.,  8.,  0.],\n",
              "        ...,\n",
              "        [ 0.,  4., 11., ..., 12.,  7.,  0.],\n",
              "        [ 0.,  2., 14., ..., 12.,  0.,  0.],\n",
              "        [ 0.,  0.,  6., ...,  0.,  0.,  0.]],\n",
              "\n",
              "       [[ 0.,  0.,  0., ...,  5.,  0.,  0.],\n",
              "        [ 0.,  0.,  0., ...,  9.,  0.,  0.],\n",
              "        [ 0.,  0.,  3., ...,  6.,  0.,  0.],\n",
              "        ...,\n",
              "        [ 0.,  0.,  1., ...,  6.,  0.,  0.],\n",
              "        [ 0.,  0.,  1., ...,  6.,  0.,  0.],\n",
              "        [ 0.,  0.,  0., ..., 10.,  0.,  0.]],\n",
              "\n",
              "       [[ 0.,  0.,  0., ..., 12.,  0.,  0.],\n",
              "        [ 0.,  0.,  3., ..., 14.,  0.,  0.],\n",
              "        [ 0.,  0.,  8., ..., 16.,  0.,  0.],\n",
              "        ...,\n",
              "        [ 0.,  9., 16., ...,  0.,  0.,  0.],\n",
              "        [ 0.,  3., 13., ..., 11.,  5.,  0.],\n",
              "        [ 0.,  0.,  0., ..., 16.,  9.,  0.]],\n",
              "\n",
              "       ...,\n",
              "\n",
              "       [[ 0.,  0.,  1., ...,  1.,  0.,  0.],\n",
              "        [ 0.,  0., 13., ...,  2.,  1.,  0.],\n",
              "        [ 0.,  0., 16., ..., 16.,  5.,  0.],\n",
              "        ...,\n",
              "        [ 0.,  0., 16., ..., 15.,  0.,  0.],\n",
              "        [ 0.,  0., 15., ..., 16.,  0.,  0.],\n",
              "        [ 0.,  0.,  2., ...,  6.,  0.,  0.]],\n",
              "\n",
              "       [[ 0.,  0.,  2., ...,  0.,  0.,  0.],\n",
              "        [ 0.,  0., 14., ..., 15.,  1.,  0.],\n",
              "        [ 0.,  4., 16., ..., 16.,  7.,  0.],\n",
              "        ...,\n",
              "        [ 0.,  0.,  0., ..., 16.,  2.,  0.],\n",
              "        [ 0.,  0.,  4., ..., 16.,  2.,  0.],\n",
              "        [ 0.,  0.,  5., ..., 12.,  0.,  0.]],\n",
              "\n",
              "       [[ 0.,  0., 10., ...,  1.,  0.,  0.],\n",
              "        [ 0.,  2., 16., ...,  1.,  0.,  0.],\n",
              "        [ 0.,  0., 15., ..., 15.,  0.,  0.],\n",
              "        ...,\n",
              "        [ 0.,  4., 16., ..., 16.,  6.,  0.],\n",
              "        [ 0.,  8., 16., ..., 16.,  8.,  0.],\n",
              "        [ 0.,  1.,  8., ..., 12.,  1.,  0.]]])"
            ]
          },
          "metadata": {},
          "execution_count": 28
        }
      ]
    },
    {
      "cell_type": "code",
      "metadata": {
        "colab": {
          "base_uri": "https://localhost:8080/"
        },
        "id": "PrTQpyxStPNl",
        "outputId": "6847c046-b065-41af-e944-63fb4b25d555"
      },
      "source": [
        "X = dataset.images.reshape((dataimageLength,-1))\n",
        "X"
      ],
      "execution_count": 29,
      "outputs": [
        {
          "output_type": "execute_result",
          "data": {
            "text/plain": [
              "array([[ 0.,  0.,  5., ...,  0.,  0.,  0.],\n",
              "       [ 0.,  0.,  0., ..., 10.,  0.,  0.],\n",
              "       [ 0.,  0.,  0., ..., 16.,  9.,  0.],\n",
              "       ...,\n",
              "       [ 0.,  0.,  1., ...,  6.,  0.,  0.],\n",
              "       [ 0.,  0.,  2., ..., 12.,  0.,  0.],\n",
              "       [ 0.,  0., 10., ..., 12.,  1.,  0.]])"
            ]
          },
          "metadata": {},
          "execution_count": 29
        }
      ]
    },
    {
      "cell_type": "code",
      "metadata": {
        "colab": {
          "base_uri": "https://localhost:8080/"
        },
        "id": "52_InBJo0Azn",
        "outputId": "f03cacc4-4dc7-41b3-876e-5b511069e5e8"
      },
      "source": [
        "Y = dataset.target\n",
        "Y"
      ],
      "execution_count": 30,
      "outputs": [
        {
          "output_type": "execute_result",
          "data": {
            "text/plain": [
              "array([0, 1, 2, ..., 8, 9, 8])"
            ]
          },
          "metadata": {},
          "execution_count": 30
        }
      ]
    },
    {
      "cell_type": "code",
      "metadata": {
        "colab": {
          "base_uri": "https://localhost:8080/"
        },
        "id": "coboFbCK0GVl",
        "outputId": "e4191467-a2fd-4450-bd63-7ba8f37b8872"
      },
      "source": [
        "from sklearn.model_selection import train_test_split\n",
        "X_train, X_test, Y_train, Y_test = train_test_split(X, Y, test_size = 0.25, random_state = 0)\n",
        "print(X_train.shape)\n",
        "print(X_test.shape)"
      ],
      "execution_count": 33,
      "outputs": [
        {
          "output_type": "stream",
          "name": "stdout",
          "text": [
            "(1347, 64)\n",
            "(450, 64)\n"
          ]
        }
      ]
    },
    {
      "cell_type": "code",
      "metadata": {
        "colab": {
          "base_uri": "https://localhost:8080/"
        },
        "id": "boauNhi-0uRZ",
        "outputId": "a4dd3bc7-a75f-4e64-fd8a-197caa618058"
      },
      "source": [
        "from sklearn import svm\n",
        "model = svm.SVC(kernel='linear')\n",
        "model.fit(X_train,Y_train)"
      ],
      "execution_count": 34,
      "outputs": [
        {
          "output_type": "execute_result",
          "data": {
            "text/plain": [
              "SVC(C=1.0, break_ties=False, cache_size=200, class_weight=None, coef0=0.0,\n",
              "    decision_function_shape='ovr', degree=3, gamma='scale', kernel='linear',\n",
              "    max_iter=-1, probability=False, random_state=None, shrinking=True,\n",
              "    tol=0.001, verbose=False)"
            ]
          },
          "metadata": {},
          "execution_count": 34
        }
      ]
    },
    {
      "cell_type": "code",
      "metadata": {
        "colab": {
          "base_uri": "https://localhost:8080/",
          "height": 316
        },
        "id": "M2jFowSg1XiR",
        "outputId": "cd910713-0a11-43d1-aaca-3f5c16319502"
      },
      "source": [
        " n=100\n",
        " result = model.predict(dataset.images[n].reshape((1,-1)))\n",
        " plt.imshow(dataset.images[n], cmap=plt.cm.gray_r, interpolation='nearest')\n",
        " print(result)\n",
        " print(\"\\n\")\n",
        " plt.axis('off')\n",
        " plt.title('%i' %result)\n",
        " plt.show()"
      ],
      "execution_count": 36,
      "outputs": [
        {
          "output_type": "stream",
          "name": "stdout",
          "text": [
            "[4]\n",
            "\n",
            "\n"
          ]
        },
        {
          "output_type": "display_data",
          "data": {
            "image/png": "[encoded data removed]",
            "text/plain": [
              "<Figure size 432x288 with 1 Axes>"
            ]
          },
          "metadata": {
            "needs_background": "light"
          }
        }
      ]
    },
    {
      "cell_type": "code",
      "metadata": {
        "colab": {
          "base_uri": "https://localhost:8080/",
          "height": 316
        },
        "id": "RVd8ZJU_4Xeu",
        "outputId": "f18d4575-8b00-445f-bb96-ed3044087153"
      },
      "source": [
        " n=4\n",
        " result = model.predict(dataset.images[n].reshape((1,-1)))\n",
        " plt.imshow(dataset.images[n], cmap=plt.cm.gray_r, interpolation='nearest')\n",
        " print(result)\n",
        " print(\"\\n\")\n",
        " plt.axis('off')\n",
        " plt.title('%i' %result)\n",
        " plt.show()"
      ],
      "execution_count": 37,
      "outputs": [
        {
          "output_type": "stream",
          "name": "stdout",
          "text": [
            "[4]\n",
            "\n",
            "\n"
          ]
        },
        {
          "output_type": "display_data",
          "data": {
            "image/png": "[encoded data removed]",
            "text/plain": [
              "<Figure size 432x288 with 1 Axes>"
            ]
          },
          "metadata": {
            "needs_background": "light"
          }
        }
      ]
    },
    {
      "cell_type": "code",
      "metadata": {
        "colab": {
          "base_uri": "https://localhost:8080/",
          "height": 316
        },
        "id": "_yn_eovS4mSi",
        "outputId": "5cee0013-01e9-4724-99a9-52f82940be82"
      },
      "source": [
        " n=1000\n",
        " result = model.predict(dataset.images[n].reshape((1,-1)))\n",
        " plt.imshow(dataset.images[n], cmap=plt.cm.gray_r, interpolation='nearest')\n",
        " print(result)\n",
        " print(\"\\n\")\n",
        " plt.axis('off')\n",
        " plt.title('%i' %result)\n",
        " plt.show()"
      ],
      "execution_count": 38,
      "outputs": [
        {
          "output_type": "stream",
          "name": "stdout",
          "text": [
            "[1]\n",
            "\n",
            "\n"
          ]
        },
        {
          "output_type": "display_data",
          "data": {
            "image/png": "[encoded data removed]",
            "text/plain": [
              "<Figure size 432x288 with 1 Axes>"
            ]
          },
          "metadata": {
            "needs_background": "light"
          }
        }
      ]
    },
    {
      "cell_type": "code",
      "metadata": {
        "colab": {
          "base_uri": "https://localhost:8080/"
        },
        "id": "W48vHFVN4pSz",
        "outputId": "93f01407-89a2-467a-cc5f-d75360f38723"
      },
      "source": [
        "y_pred = model.predict(X_test)\n",
        "print(np.concatenate((y_pred.reshape(len(y_pred),1), Y_test.reshape(len(Y_test),1)),1))"
      ],
      "execution_count": 39,
      "outputs": [
        {
          "output_type": "stream",
          "name": "stdout",
          "text": [
            "[[2 2]\n",
            " [8 8]\n",
            " [2 2]\n",
            " [6 6]\n",
            " [6 6]\n",
            " [7 7]\n",
            " [1 1]\n",
            " [9 9]\n",
            " [8 8]\n",
            " [5 5]\n",
            " [2 2]\n",
            " [8 8]\n",
            " [6 6]\n",
            " [6 6]\n",
            " [6 6]\n",
            " [6 6]\n",
            " [1 1]\n",
            " [0 0]\n",
            " [5 5]\n",
            " [8 8]\n",
            " [8 8]\n",
            " [7 7]\n",
            " [8 8]\n",
            " [4 4]\n",
            " [7 7]\n",
            " [5 5]\n",
            " [4 4]\n",
            " [9 9]\n",
            " [2 2]\n",
            " [9 9]\n",
            " [4 4]\n",
            " [7 7]\n",
            " [6 6]\n",
            " [8 8]\n",
            " [9 9]\n",
            " [4 4]\n",
            " [3 3]\n",
            " [1 1]\n",
            " [0 0]\n",
            " [1 1]\n",
            " [8 8]\n",
            " [6 6]\n",
            " [7 7]\n",
            " [7 7]\n",
            " [1 1]\n",
            " [0 0]\n",
            " [7 7]\n",
            " [6 6]\n",
            " [2 2]\n",
            " [1 1]\n",
            " [9 9]\n",
            " [6 6]\n",
            " [7 7]\n",
            " [9 9]\n",
            " [0 0]\n",
            " [0 0]\n",
            " [5 5]\n",
            " [1 1]\n",
            " [6 6]\n",
            " [3 3]\n",
            " [0 0]\n",
            " [2 2]\n",
            " [3 3]\n",
            " [4 4]\n",
            " [1 1]\n",
            " [9 9]\n",
            " [2 2]\n",
            " [6 6]\n",
            " [9 9]\n",
            " [1 1]\n",
            " [8 8]\n",
            " [3 3]\n",
            " [5 5]\n",
            " [1 1]\n",
            " [2 2]\n",
            " [8 8]\n",
            " [2 2]\n",
            " [2 2]\n",
            " [9 9]\n",
            " [7 7]\n",
            " [2 2]\n",
            " [3 3]\n",
            " [6 6]\n",
            " [0 0]\n",
            " [5 5]\n",
            " [3 3]\n",
            " [7 7]\n",
            " [5 5]\n",
            " [1 1]\n",
            " [2 2]\n",
            " [9 9]\n",
            " [9 9]\n",
            " [3 3]\n",
            " [1 1]\n",
            " [7 7]\n",
            " [7 7]\n",
            " [4 4]\n",
            " [8 8]\n",
            " [5 5]\n",
            " [8 8]\n",
            " [5 5]\n",
            " [5 5]\n",
            " [2 2]\n",
            " [5 5]\n",
            " [9 9]\n",
            " [0 0]\n",
            " [7 7]\n",
            " [1 1]\n",
            " [4 4]\n",
            " [4 7]\n",
            " [3 3]\n",
            " [4 4]\n",
            " [8 8]\n",
            " [9 9]\n",
            " [7 7]\n",
            " [9 9]\n",
            " [8 8]\n",
            " [2 2]\n",
            " [1 6]\n",
            " [5 5]\n",
            " [2 2]\n",
            " [5 5]\n",
            " [8 8]\n",
            " [4 4]\n",
            " [1 8]\n",
            " [7 7]\n",
            " [0 0]\n",
            " [6 6]\n",
            " [1 1]\n",
            " [5 5]\n",
            " [5 9]\n",
            " [9 9]\n",
            " [9 9]\n",
            " [5 5]\n",
            " [9 9]\n",
            " [9 9]\n",
            " [5 5]\n",
            " [7 7]\n",
            " [5 5]\n",
            " [6 6]\n",
            " [2 2]\n",
            " [8 8]\n",
            " [6 6]\n",
            " [9 9]\n",
            " [6 6]\n",
            " [1 1]\n",
            " [5 5]\n",
            " [1 1]\n",
            " [5 5]\n",
            " [9 9]\n",
            " [9 9]\n",
            " [1 1]\n",
            " [5 5]\n",
            " [3 3]\n",
            " [6 6]\n",
            " [1 1]\n",
            " [8 8]\n",
            " [9 9]\n",
            " [8 8]\n",
            " [7 7]\n",
            " [6 6]\n",
            " [7 7]\n",
            " [6 6]\n",
            " [5 5]\n",
            " [6 6]\n",
            " [0 0]\n",
            " [8 8]\n",
            " [8 8]\n",
            " [9 9]\n",
            " [8 8]\n",
            " [6 6]\n",
            " [1 1]\n",
            " [0 0]\n",
            " [4 4]\n",
            " [1 1]\n",
            " [6 6]\n",
            " [3 3]\n",
            " [8 8]\n",
            " [6 6]\n",
            " [7 7]\n",
            " [4 4]\n",
            " [9 5]\n",
            " [6 6]\n",
            " [3 3]\n",
            " [0 0]\n",
            " [3 3]\n",
            " [3 3]\n",
            " [3 3]\n",
            " [0 0]\n",
            " [7 7]\n",
            " [7 7]\n",
            " [5 5]\n",
            " [7 7]\n",
            " [8 8]\n",
            " [0 0]\n",
            " [7 7]\n",
            " [1 8]\n",
            " [9 9]\n",
            " [6 6]\n",
            " [4 4]\n",
            " [5 5]\n",
            " [0 0]\n",
            " [1 1]\n",
            " [4 4]\n",
            " [6 6]\n",
            " [4 4]\n",
            " [3 3]\n",
            " [3 3]\n",
            " [0 0]\n",
            " [9 9]\n",
            " [5 5]\n",
            " [3 9]\n",
            " [2 2]\n",
            " [1 1]\n",
            " [4 4]\n",
            " [2 2]\n",
            " [1 1]\n",
            " [6 6]\n",
            " [8 8]\n",
            " [9 9]\n",
            " [2 2]\n",
            " [4 4]\n",
            " [9 9]\n",
            " [3 3]\n",
            " [7 7]\n",
            " [6 6]\n",
            " [2 2]\n",
            " [3 3]\n",
            " [3 3]\n",
            " [1 1]\n",
            " [6 6]\n",
            " [9 9]\n",
            " [3 3]\n",
            " [6 6]\n",
            " [3 3]\n",
            " [2 2]\n",
            " [2 2]\n",
            " [0 0]\n",
            " [7 7]\n",
            " [6 6]\n",
            " [1 1]\n",
            " [1 1]\n",
            " [9 9]\n",
            " [7 7]\n",
            " [2 2]\n",
            " [7 7]\n",
            " [8 8]\n",
            " [5 5]\n",
            " [5 5]\n",
            " [7 7]\n",
            " [5 5]\n",
            " [2 2]\n",
            " [3 3]\n",
            " [7 7]\n",
            " [2 2]\n",
            " [7 7]\n",
            " [5 5]\n",
            " [5 5]\n",
            " [7 7]\n",
            " [0 0]\n",
            " [9 9]\n",
            " [1 1]\n",
            " [6 6]\n",
            " [5 5]\n",
            " [9 9]\n",
            " [7 7]\n",
            " [4 4]\n",
            " [3 3]\n",
            " [8 8]\n",
            " [0 0]\n",
            " [3 3]\n",
            " [6 6]\n",
            " [4 4]\n",
            " [6 6]\n",
            " [3 3]\n",
            " [2 2]\n",
            " [6 6]\n",
            " [8 8]\n",
            " [8 8]\n",
            " [8 8]\n",
            " [4 4]\n",
            " [6 6]\n",
            " [7 7]\n",
            " [5 5]\n",
            " [2 2]\n",
            " [4 4]\n",
            " [5 5]\n",
            " [3 3]\n",
            " [2 2]\n",
            " [4 4]\n",
            " [6 6]\n",
            " [9 9]\n",
            " [4 4]\n",
            " [5 5]\n",
            " [4 4]\n",
            " [3 3]\n",
            " [4 4]\n",
            " [6 6]\n",
            " [2 2]\n",
            " [9 9]\n",
            " [0 0]\n",
            " [1 1]\n",
            " [7 7]\n",
            " [2 2]\n",
            " [0 0]\n",
            " [9 9]\n",
            " [6 6]\n",
            " [0 0]\n",
            " [4 4]\n",
            " [2 2]\n",
            " [0 0]\n",
            " [7 7]\n",
            " [9 9]\n",
            " [8 8]\n",
            " [5 5]\n",
            " [4 4]\n",
            " [8 8]\n",
            " [2 2]\n",
            " [8 8]\n",
            " [4 4]\n",
            " [3 3]\n",
            " [7 7]\n",
            " [2 2]\n",
            " [6 6]\n",
            " [9 9]\n",
            " [1 1]\n",
            " [5 5]\n",
            " [1 1]\n",
            " [0 0]\n",
            " [8 8]\n",
            " [2 2]\n",
            " [8 1]\n",
            " [9 9]\n",
            " [5 5]\n",
            " [6 6]\n",
            " [2 8]\n",
            " [2 2]\n",
            " [7 7]\n",
            " [2 2]\n",
            " [1 1]\n",
            " [5 5]\n",
            " [1 1]\n",
            " [6 6]\n",
            " [4 4]\n",
            " [5 5]\n",
            " [0 0]\n",
            " [9 9]\n",
            " [4 4]\n",
            " [1 1]\n",
            " [1 1]\n",
            " [7 7]\n",
            " [0 0]\n",
            " [8 8]\n",
            " [9 9]\n",
            " [0 0]\n",
            " [5 5]\n",
            " [4 4]\n",
            " [3 3]\n",
            " [8 8]\n",
            " [8 8]\n",
            " [6 6]\n",
            " [5 5]\n",
            " [3 3]\n",
            " [4 4]\n",
            " [4 4]\n",
            " [4 4]\n",
            " [8 8]\n",
            " [8 8]\n",
            " [7 7]\n",
            " [0 0]\n",
            " [9 9]\n",
            " [6 6]\n",
            " [3 3]\n",
            " [5 5]\n",
            " [2 2]\n",
            " [3 3]\n",
            " [0 0]\n",
            " [8 8]\n",
            " [8 3]\n",
            " [3 3]\n",
            " [1 1]\n",
            " [3 3]\n",
            " [3 3]\n",
            " [0 0]\n",
            " [0 0]\n",
            " [4 4]\n",
            " [6 6]\n",
            " [0 0]\n",
            " [7 7]\n",
            " [7 7]\n",
            " [6 6]\n",
            " [2 2]\n",
            " [0 0]\n",
            " [4 4]\n",
            " [4 4]\n",
            " [2 2]\n",
            " [3 3]\n",
            " [7 7]\n",
            " [1 8]\n",
            " [9 9]\n",
            " [8 8]\n",
            " [6 6]\n",
            " [8 8]\n",
            " [5 5]\n",
            " [6 6]\n",
            " [2 2]\n",
            " [2 2]\n",
            " [3 3]\n",
            " [1 1]\n",
            " [7 7]\n",
            " [7 7]\n",
            " [8 8]\n",
            " [0 0]\n",
            " [3 3]\n",
            " [3 3]\n",
            " [2 2]\n",
            " [1 1]\n",
            " [5 5]\n",
            " [5 5]\n",
            " [9 9]\n",
            " [1 1]\n",
            " [3 3]\n",
            " [7 7]\n",
            " [0 0]\n",
            " [0 0]\n",
            " [7 7]\n",
            " [0 0]\n",
            " [4 4]\n",
            " [5 5]\n",
            " [8 9]\n",
            " [9 3]\n",
            " [3 3]\n",
            " [4 4]\n",
            " [3 3]\n",
            " [1 1]\n",
            " [8 8]\n",
            " [9 9]\n",
            " [8 8]\n",
            " [3 3]\n",
            " [6 6]\n",
            " [2 2]\n",
            " [1 1]\n",
            " [6 6]\n",
            " [2 2]\n",
            " [1 1]\n",
            " [7 7]\n",
            " [5 5]\n",
            " [5 5]\n",
            " [1 1]\n",
            " [9 9]]\n"
          ]
        }
      ]
    },
    {
      "cell_type": "code",
      "metadata": {
        "colab": {
          "base_uri": "https://localhost:8080/"
        },
        "id": "DZUSwTst616b",
        "outputId": "5fd0828f-5760-4ac3-f9a4-2aabd13e7d27"
      },
      "source": [
        "from sklearn.metrics import accuracy_score\n",
        "print(\"Accuracy of the Model: {0}%\".format(accuracy_score(Y_test, y_pred)*100))"
      ],
      "execution_count": 42,
      "outputs": [
        {
          "output_type": "stream",
          "name": "stdout",
          "text": [
            "Accuracy of the Model: 97.11111111111111%\n"
          ]
        }
      ]
    },
    {
      "cell_type": "code",
      "metadata": {
        "id": "fTFzTD565vOF"
      },
      "source": [
        "from sklearn import svm\n",
        "\n",
        "model1 = svm.SVC(kernel='linear')\n",
        "model2 = svm.SVC(kernel='rbf')\n",
        "model3 = svm.SVC(gamma=0.001)\n",
        "model4 = svm.SVC(gamma=0.001,C=0.1)\n",
        "\n",
        "model1.fit(X_train,Y_train)\n",
        "model2.fit(X_train,Y_train)\n",
        "model3.fit(X_train,Y_train)\n",
        "model4.fit(X_train,Y_train)\n",
        "\n",
        "y_predModel1 = model1.predict(X_test)\n",
        "y_predModel2 = model2.predict(X_test)\n",
        "y_predModel3 = model3.predict(X_test)\n",
        "y_predModel4 = model4.predict(X_test)\n"
      ],
      "execution_count": 55,
      "outputs": []
    },
    {
      "cell_type": "code",
      "metadata": {
        "colab": {
          "base_uri": "https://localhost:8080/"
        },
        "id": "mIf_Z6_g-Vnc",
        "outputId": "49e8b0c1-2c9d-47b1-89fd-7d02b72bc38c"
      },
      "source": [
        "print(\"Accuracy of the Model 1: {0}%\".format(accuracy_score(Y_test, y_predModel1)*100))\n",
        "print(\"Accuracy of the Model 2: {0}%\".format(accuracy_score(Y_test, y_predModel2)*100))\n",
        "print(\"Accuracy of the Model 3: {0}%\".format(accuracy_score(Y_test, y_predModel3)*100))\n",
        "print(\"Accuracy of the Model 4: {0}%\".format(accuracy_score(Y_test, y_predModel4)*100))"
      ],
      "execution_count": 56,
      "outputs": [
        {
          "output_type": "stream",
          "name": "stdout",
          "text": [
            "Accuracy of the Model 1: 97.11111111111111%\n",
            "Accuracy of the Model 2: 99.11111111111111%\n",
            "Accuracy of the Model 3: 99.55555555555556%\n",
            "Accuracy of the Model 4: 96.66666666666667%\n"
          ]
        }
      ]
    },
    {
      "cell_type": "code",
      "metadata": {
        "id": "4lInJLOW-7K3"
      },
      "source": [
        ""
      ],
      "execution_count": null,
      "outputs": []
    }
  ]
}